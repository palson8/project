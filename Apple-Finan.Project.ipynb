{
 "cells": [
  {
   "cell_type": "markdown",
   "id": "491b2877",
   "metadata": {},
   "source": [
    "# The Financial and Workforce Evolution of Apple: 2009-2024"
   ]
  },
  {
   "cell_type": "markdown",
   "id": "7c510300",
   "metadata": {},
   "source": [
    "# Dataset:\n",
    "\n",
    "The dataset provides a comprehensive collection of financial and operational data for Apple Inc. spanning the years 2009 to 2024. This data offers valuable insights into Apple’s business performance, profitability, financial health, stock performance, and workforce development over a 15-year period. Each column in the dataset represents a key metric that contributes to understanding the company’s growth, efficiency, and market position."
   ]
  },
  {
   "cell_type": "code",
   "execution_count": 1,
   "id": "66b343d0",
   "metadata": {},
   "outputs": [],
   "source": [
    "#importing necessary libraries\n",
    "import pandas as pd\n",
    "import numpy as np\n",
    "import matplotlib.pyplot as plt\n",
    "%matplotlib inline\n",
    "import seaborn as sns\n",
    "import plotly.express as px"
   ]
  },
  {
   "cell_type": "code",
   "execution_count": 2,
   "id": "bbed0062",
   "metadata": {},
   "outputs": [],
   "source": [
    "#reading the dataset\n",
    "data = pd.read_csv('Apple 2009-2024.csv')"
   ]
  },
  {
   "cell_type": "code",
   "execution_count": 3,
   "id": "ff355a9a",
   "metadata": {},
   "outputs": [
    {
     "data": {
      "text/html": [
       "<div>\n",
       "<style scoped>\n",
       "    .dataframe tbody tr th:only-of-type {\n",
       "        vertical-align: middle;\n",
       "    }\n",
       "\n",
       "    .dataframe tbody tr th {\n",
       "        vertical-align: top;\n",
       "    }\n",
       "\n",
       "    .dataframe thead th {\n",
       "        text-align: right;\n",
       "    }\n",
       "</style>\n",
       "<table border=\"1\" class=\"dataframe\">\n",
       "  <thead>\n",
       "    <tr style=\"text-align: right;\">\n",
       "      <th></th>\n",
       "      <th>year</th>\n",
       "      <th>EBITDA (millions)</th>\n",
       "      <th>Revenue (millions)</th>\n",
       "      <th>Gross Profit (millions)</th>\n",
       "      <th>Op Income (millions)</th>\n",
       "      <th>Net Income (millions)</th>\n",
       "      <th>EPS</th>\n",
       "      <th>Shares Outstanding</th>\n",
       "      <th>Year Close Price</th>\n",
       "      <th>Total Assets (millions)</th>\n",
       "      <th>Cash on Hand (millions)</th>\n",
       "      <th>Long Term Debt (millions)</th>\n",
       "      <th>Total Liabilities (millions)</th>\n",
       "      <th>Gross Margin</th>\n",
       "      <th>PE ratio</th>\n",
       "      <th>Employees</th>\n",
       "    </tr>\n",
       "  </thead>\n",
       "  <tbody>\n",
       "    <tr>\n",
       "      <th>0</th>\n",
       "      <td>2024</td>\n",
       "      <td>$134,661</td>\n",
       "      <td>$391,035</td>\n",
       "      <td>$180,683</td>\n",
       "      <td>$123,216</td>\n",
       "      <td>$93,736</td>\n",
       "      <td>$6.08</td>\n",
       "      <td>15,408</td>\n",
       "      <td>243.0400</td>\n",
       "      <td>$364,980</td>\n",
       "      <td>$65,171</td>\n",
       "      <td>$85,750</td>\n",
       "      <td>$308,030</td>\n",
       "      <td>46.21%</td>\n",
       "      <td>39.97</td>\n",
       "      <td>164,000</td>\n",
       "    </tr>\n",
       "    <tr>\n",
       "      <th>1</th>\n",
       "      <td>2023</td>\n",
       "      <td>$125,820</td>\n",
       "      <td>$383,285</td>\n",
       "      <td>$169,148</td>\n",
       "      <td>$114,301</td>\n",
       "      <td>$96,995</td>\n",
       "      <td>$6.13</td>\n",
       "      <td>15,813</td>\n",
       "      <td>191.5919</td>\n",
       "      <td>$352,583</td>\n",
       "      <td>$61,555</td>\n",
       "      <td>$95,281</td>\n",
       "      <td>$290,437</td>\n",
       "      <td>45.03%</td>\n",
       "      <td>29.84</td>\n",
       "      <td>161,000</td>\n",
       "    </tr>\n",
       "    <tr>\n",
       "      <th>2</th>\n",
       "      <td>2022</td>\n",
       "      <td>$130,541</td>\n",
       "      <td>$394,328</td>\n",
       "      <td>$170,782</td>\n",
       "      <td>$119,437</td>\n",
       "      <td>$99,803</td>\n",
       "      <td>$6.11</td>\n",
       "      <td>16,326</td>\n",
       "      <td>128.5816</td>\n",
       "      <td>$352,755</td>\n",
       "      <td>$48,304</td>\n",
       "      <td>$98,959</td>\n",
       "      <td>$302,083</td>\n",
       "      <td>43.06%</td>\n",
       "      <td>21.83</td>\n",
       "      <td>164,000</td>\n",
       "    </tr>\n",
       "    <tr>\n",
       "      <th>3</th>\n",
       "      <td>2021</td>\n",
       "      <td>$120,233</td>\n",
       "      <td>$365,817</td>\n",
       "      <td>$152,836</td>\n",
       "      <td>$108,949</td>\n",
       "      <td>$94,680</td>\n",
       "      <td>$5.61</td>\n",
       "      <td>16,865</td>\n",
       "      <td>174.7132</td>\n",
       "      <td>$351,002</td>\n",
       "      <td>$62,639</td>\n",
       "      <td>$109,106</td>\n",
       "      <td>$287,912</td>\n",
       "      <td>43.02%</td>\n",
       "      <td>28.93</td>\n",
       "      <td>154,000</td>\n",
       "    </tr>\n",
       "    <tr>\n",
       "      <th>4</th>\n",
       "      <td>2020</td>\n",
       "      <td>$77,344</td>\n",
       "      <td>$274,515</td>\n",
       "      <td>$104,956</td>\n",
       "      <td>$66,288</td>\n",
       "      <td>$57,411</td>\n",
       "      <td>$3.28</td>\n",
       "      <td>17,528</td>\n",
       "      <td>129.7556</td>\n",
       "      <td>$323,888</td>\n",
       "      <td>$90,943</td>\n",
       "      <td>$98,667</td>\n",
       "      <td>$258,549</td>\n",
       "      <td>38.78%</td>\n",
       "      <td>35.14</td>\n",
       "      <td>147,000</td>\n",
       "    </tr>\n",
       "  </tbody>\n",
       "</table>\n",
       "</div>"
      ],
      "text/plain": [
       "   year EBITDA (millions) Revenue (millions) Gross Profit (millions)  \\\n",
       "0  2024          $134,661           $391,035                $180,683   \n",
       "1  2023          $125,820           $383,285                $169,148   \n",
       "2  2022          $130,541           $394,328                $170,782   \n",
       "3  2021          $120,233           $365,817                $152,836   \n",
       "4  2020           $77,344           $274,515                $104,956   \n",
       "\n",
       "  Op Income (millions) Net Income (millions)    EPS Shares Outstanding  \\\n",
       "0             $123,216               $93,736  $6.08             15,408   \n",
       "1             $114,301               $96,995  $6.13             15,813   \n",
       "2             $119,437               $99,803  $6.11             16,326   \n",
       "3             $108,949               $94,680  $5.61             16,865   \n",
       "4              $66,288               $57,411  $3.28             17,528   \n",
       "\n",
       "   Year Close Price Total Assets (millions) Cash on Hand (millions)  \\\n",
       "0          243.0400                $364,980                 $65,171   \n",
       "1          191.5919                $352,583                 $61,555   \n",
       "2          128.5816                $352,755                 $48,304   \n",
       "3          174.7132                $351,002                 $62,639   \n",
       "4          129.7556                $323,888                 $90,943   \n",
       "\n",
       "  Long Term Debt (millions) Total Liabilities (millions) Gross Margin  \\\n",
       "0                   $85,750                     $308,030       46.21%   \n",
       "1                   $95,281                     $290,437       45.03%   \n",
       "2                   $98,959                     $302,083       43.06%   \n",
       "3                  $109,106                     $287,912       43.02%   \n",
       "4                   $98,667                     $258,549       38.78%   \n",
       "\n",
       "   PE ratio Employees  \n",
       "0     39.97   164,000  \n",
       "1     29.84   161,000  \n",
       "2     21.83   164,000  \n",
       "3     28.93   154,000  \n",
       "4     35.14   147,000  "
      ]
     },
     "execution_count": 3,
     "metadata": {},
     "output_type": "execute_result"
    }
   ],
   "source": [
    "#diaplying first five rows the dataset\n",
    "data.head()"
   ]
  },
  {
   "cell_type": "code",
   "execution_count": 4,
   "id": "8b73fd99",
   "metadata": {},
   "outputs": [
    {
     "data": {
      "text/plain": [
       "['year',\n",
       " 'EBITDA (millions)',\n",
       " 'Revenue (millions)',\n",
       " 'Gross Profit (millions)',\n",
       " 'Op Income (millions)',\n",
       " 'Net Income (millions)',\n",
       " 'EPS',\n",
       " 'Shares Outstanding',\n",
       " 'Year Close Price',\n",
       " 'Total Assets (millions)',\n",
       " 'Cash on Hand (millions)',\n",
       " 'Long Term Debt (millions)',\n",
       " 'Total Liabilities (millions)',\n",
       " 'Gross Margin',\n",
       " 'PE ratio',\n",
       " 'Employees']"
      ]
     },
     "execution_count": 4,
     "metadata": {},
     "output_type": "execute_result"
    }
   ],
   "source": [
    "#columns in the dataset\n",
    "data.columns.to_list()"
   ]
  },
  {
   "cell_type": "code",
   "execution_count": 5,
   "id": "412f3f9a",
   "metadata": {},
   "outputs": [
    {
     "data": {
      "text/plain": [
       "(16, 16)"
      ]
     },
     "execution_count": 5,
     "metadata": {},
     "output_type": "execute_result"
    }
   ],
   "source": [
    "#shape of the dataset\n",
    "data.shape"
   ]
  },
  {
   "cell_type": "code",
   "execution_count": 6,
   "id": "a3ac29c7",
   "metadata": {},
   "outputs": [
    {
     "name": "stdout",
     "output_type": "stream",
     "text": [
      "<class 'pandas.core.frame.DataFrame'>\n",
      "RangeIndex: 16 entries, 0 to 15\n",
      "Data columns (total 16 columns):\n",
      " #   Column                        Non-Null Count  Dtype  \n",
      "---  ------                        --------------  -----  \n",
      " 0   year                          16 non-null     int64  \n",
      " 1   EBITDA (millions)             16 non-null     object \n",
      " 2   Revenue (millions)            16 non-null     object \n",
      " 3   Gross Profit (millions)       16 non-null     object \n",
      " 4   Op Income (millions)          16 non-null     object \n",
      " 5   Net Income (millions)         16 non-null     object \n",
      " 6   EPS                           16 non-null     object \n",
      " 7   Shares Outstanding            16 non-null     object \n",
      " 8   Year Close Price              16 non-null     float64\n",
      " 9   Total Assets (millions)       16 non-null     object \n",
      " 10  Cash on Hand (millions)       16 non-null     object \n",
      " 11  Long Term Debt (millions)     16 non-null     object \n",
      " 12  Total Liabilities (millions)  16 non-null     object \n",
      " 13  Gross Margin                  16 non-null     object \n",
      " 14  PE ratio                      16 non-null     float64\n",
      " 15  Employees                     16 non-null     object \n",
      "dtypes: float64(2), int64(1), object(13)\n",
      "memory usage: 2.1+ KB\n"
     ]
    }
   ],
   "source": [
    "#overall information about the dataset\n",
    "data.info()"
   ]
  },
  {
   "cell_type": "code",
   "execution_count": 7,
   "id": "d6a2e116",
   "metadata": {},
   "outputs": [
    {
     "data": {
      "text/html": [
       "<div>\n",
       "<style scoped>\n",
       "    .dataframe tbody tr th:only-of-type {\n",
       "        vertical-align: middle;\n",
       "    }\n",
       "\n",
       "    .dataframe tbody tr th {\n",
       "        vertical-align: top;\n",
       "    }\n",
       "\n",
       "    .dataframe thead th {\n",
       "        text-align: right;\n",
       "    }\n",
       "</style>\n",
       "<table border=\"1\" class=\"dataframe\">\n",
       "  <thead>\n",
       "    <tr style=\"text-align: right;\">\n",
       "      <th></th>\n",
       "      <th>year</th>\n",
       "      <th>Year Close Price</th>\n",
       "      <th>PE ratio</th>\n",
       "    </tr>\n",
       "  </thead>\n",
       "  <tbody>\n",
       "    <tr>\n",
       "      <th>count</th>\n",
       "      <td>16.000000</td>\n",
       "      <td>16.000000</td>\n",
       "      <td>16.000000</td>\n",
       "    </tr>\n",
       "    <tr>\n",
       "      <th>mean</th>\n",
       "      <td>2016.500000</td>\n",
       "      <td>72.092675</td>\n",
       "      <td>19.438750</td>\n",
       "    </tr>\n",
       "    <tr>\n",
       "      <th>std</th>\n",
       "      <td>4.760952</td>\n",
       "      <td>76.299400</td>\n",
       "      <td>9.521776</td>\n",
       "    </tr>\n",
       "    <tr>\n",
       "      <th>min</th>\n",
       "      <td>2009.000000</td>\n",
       "      <td>6.348100</td>\n",
       "      <td>9.730000</td>\n",
       "    </tr>\n",
       "    <tr>\n",
       "      <th>25%</th>\n",
       "      <td>2012.750000</td>\n",
       "      <td>17.153925</td>\n",
       "      <td>12.327500</td>\n",
       "    </tr>\n",
       "    <tr>\n",
       "      <th>50%</th>\n",
       "      <td>2016.500000</td>\n",
       "      <td>32.238800</td>\n",
       "      <td>15.780000</td>\n",
       "    </tr>\n",
       "    <tr>\n",
       "      <th>75%</th>\n",
       "      <td>2020.250000</td>\n",
       "      <td>128.875100</td>\n",
       "      <td>24.100000</td>\n",
       "    </tr>\n",
       "    <tr>\n",
       "      <th>max</th>\n",
       "      <td>2024.000000</td>\n",
       "      <td>243.040000</td>\n",
       "      <td>39.970000</td>\n",
       "    </tr>\n",
       "  </tbody>\n",
       "</table>\n",
       "</div>"
      ],
      "text/plain": [
       "              year  Year Close Price   PE ratio\n",
       "count    16.000000         16.000000  16.000000\n",
       "mean   2016.500000         72.092675  19.438750\n",
       "std       4.760952         76.299400   9.521776\n",
       "min    2009.000000          6.348100   9.730000\n",
       "25%    2012.750000         17.153925  12.327500\n",
       "50%    2016.500000         32.238800  15.780000\n",
       "75%    2020.250000        128.875100  24.100000\n",
       "max    2024.000000        243.040000  39.970000"
      ]
     },
     "execution_count": 7,
     "metadata": {},
     "output_type": "execute_result"
    }
   ],
   "source": [
    "#displaying summary statistics for the numarical columns in the dataset\n",
    "data.describe()"
   ]
  },
  {
   "cell_type": "markdown",
   "id": "413e312e",
   "metadata": {},
   "source": [
    "# Data Pre-processing"
   ]
  },
  {
   "cell_type": "markdown",
   "id": "c2228e47",
   "metadata": {},
   "source": [
    "Checking null values in the dataset"
   ]
  },
  {
   "cell_type": "code",
   "execution_count": 8,
   "id": "bef871da",
   "metadata": {},
   "outputs": [
    {
     "data": {
      "text/html": [
       "<div>\n",
       "<style scoped>\n",
       "    .dataframe tbody tr th:only-of-type {\n",
       "        vertical-align: middle;\n",
       "    }\n",
       "\n",
       "    .dataframe tbody tr th {\n",
       "        vertical-align: top;\n",
       "    }\n",
       "\n",
       "    .dataframe thead th {\n",
       "        text-align: right;\n",
       "    }\n",
       "</style>\n",
       "<table border=\"1\" class=\"dataframe\">\n",
       "  <thead>\n",
       "    <tr style=\"text-align: right;\">\n",
       "      <th></th>\n",
       "      <th>year</th>\n",
       "      <th>EBITDA (millions)</th>\n",
       "      <th>Revenue (millions)</th>\n",
       "      <th>Gross Profit (millions)</th>\n",
       "      <th>Op Income (millions)</th>\n",
       "      <th>Net Income (millions)</th>\n",
       "      <th>EPS</th>\n",
       "      <th>Shares Outstanding</th>\n",
       "      <th>Year Close Price</th>\n",
       "      <th>Total Assets (millions)</th>\n",
       "      <th>Cash on Hand (millions)</th>\n",
       "      <th>Long Term Debt (millions)</th>\n",
       "      <th>Total Liabilities (millions)</th>\n",
       "      <th>Gross Margin</th>\n",
       "      <th>PE ratio</th>\n",
       "      <th>Employees</th>\n",
       "    </tr>\n",
       "  </thead>\n",
       "  <tbody>\n",
       "    <tr>\n",
       "      <th>0</th>\n",
       "      <td>False</td>\n",
       "      <td>False</td>\n",
       "      <td>False</td>\n",
       "      <td>False</td>\n",
       "      <td>False</td>\n",
       "      <td>False</td>\n",
       "      <td>False</td>\n",
       "      <td>False</td>\n",
       "      <td>False</td>\n",
       "      <td>False</td>\n",
       "      <td>False</td>\n",
       "      <td>False</td>\n",
       "      <td>False</td>\n",
       "      <td>False</td>\n",
       "      <td>False</td>\n",
       "      <td>False</td>\n",
       "    </tr>\n",
       "    <tr>\n",
       "      <th>1</th>\n",
       "      <td>False</td>\n",
       "      <td>False</td>\n",
       "      <td>False</td>\n",
       "      <td>False</td>\n",
       "      <td>False</td>\n",
       "      <td>False</td>\n",
       "      <td>False</td>\n",
       "      <td>False</td>\n",
       "      <td>False</td>\n",
       "      <td>False</td>\n",
       "      <td>False</td>\n",
       "      <td>False</td>\n",
       "      <td>False</td>\n",
       "      <td>False</td>\n",
       "      <td>False</td>\n",
       "      <td>False</td>\n",
       "    </tr>\n",
       "    <tr>\n",
       "      <th>2</th>\n",
       "      <td>False</td>\n",
       "      <td>False</td>\n",
       "      <td>False</td>\n",
       "      <td>False</td>\n",
       "      <td>False</td>\n",
       "      <td>False</td>\n",
       "      <td>False</td>\n",
       "      <td>False</td>\n",
       "      <td>False</td>\n",
       "      <td>False</td>\n",
       "      <td>False</td>\n",
       "      <td>False</td>\n",
       "      <td>False</td>\n",
       "      <td>False</td>\n",
       "      <td>False</td>\n",
       "      <td>False</td>\n",
       "    </tr>\n",
       "    <tr>\n",
       "      <th>3</th>\n",
       "      <td>False</td>\n",
       "      <td>False</td>\n",
       "      <td>False</td>\n",
       "      <td>False</td>\n",
       "      <td>False</td>\n",
       "      <td>False</td>\n",
       "      <td>False</td>\n",
       "      <td>False</td>\n",
       "      <td>False</td>\n",
       "      <td>False</td>\n",
       "      <td>False</td>\n",
       "      <td>False</td>\n",
       "      <td>False</td>\n",
       "      <td>False</td>\n",
       "      <td>False</td>\n",
       "      <td>False</td>\n",
       "    </tr>\n",
       "    <tr>\n",
       "      <th>4</th>\n",
       "      <td>False</td>\n",
       "      <td>False</td>\n",
       "      <td>False</td>\n",
       "      <td>False</td>\n",
       "      <td>False</td>\n",
       "      <td>False</td>\n",
       "      <td>False</td>\n",
       "      <td>False</td>\n",
       "      <td>False</td>\n",
       "      <td>False</td>\n",
       "      <td>False</td>\n",
       "      <td>False</td>\n",
       "      <td>False</td>\n",
       "      <td>False</td>\n",
       "      <td>False</td>\n",
       "      <td>False</td>\n",
       "    </tr>\n",
       "    <tr>\n",
       "      <th>5</th>\n",
       "      <td>False</td>\n",
       "      <td>False</td>\n",
       "      <td>False</td>\n",
       "      <td>False</td>\n",
       "      <td>False</td>\n",
       "      <td>False</td>\n",
       "      <td>False</td>\n",
       "      <td>False</td>\n",
       "      <td>False</td>\n",
       "      <td>False</td>\n",
       "      <td>False</td>\n",
       "      <td>False</td>\n",
       "      <td>False</td>\n",
       "      <td>False</td>\n",
       "      <td>False</td>\n",
       "      <td>False</td>\n",
       "    </tr>\n",
       "    <tr>\n",
       "      <th>6</th>\n",
       "      <td>False</td>\n",
       "      <td>False</td>\n",
       "      <td>False</td>\n",
       "      <td>False</td>\n",
       "      <td>False</td>\n",
       "      <td>False</td>\n",
       "      <td>False</td>\n",
       "      <td>False</td>\n",
       "      <td>False</td>\n",
       "      <td>False</td>\n",
       "      <td>False</td>\n",
       "      <td>False</td>\n",
       "      <td>False</td>\n",
       "      <td>False</td>\n",
       "      <td>False</td>\n",
       "      <td>False</td>\n",
       "    </tr>\n",
       "    <tr>\n",
       "      <th>7</th>\n",
       "      <td>False</td>\n",
       "      <td>False</td>\n",
       "      <td>False</td>\n",
       "      <td>False</td>\n",
       "      <td>False</td>\n",
       "      <td>False</td>\n",
       "      <td>False</td>\n",
       "      <td>False</td>\n",
       "      <td>False</td>\n",
       "      <td>False</td>\n",
       "      <td>False</td>\n",
       "      <td>False</td>\n",
       "      <td>False</td>\n",
       "      <td>False</td>\n",
       "      <td>False</td>\n",
       "      <td>False</td>\n",
       "    </tr>\n",
       "    <tr>\n",
       "      <th>8</th>\n",
       "      <td>False</td>\n",
       "      <td>False</td>\n",
       "      <td>False</td>\n",
       "      <td>False</td>\n",
       "      <td>False</td>\n",
       "      <td>False</td>\n",
       "      <td>False</td>\n",
       "      <td>False</td>\n",
       "      <td>False</td>\n",
       "      <td>False</td>\n",
       "      <td>False</td>\n",
       "      <td>False</td>\n",
       "      <td>False</td>\n",
       "      <td>False</td>\n",
       "      <td>False</td>\n",
       "      <td>False</td>\n",
       "    </tr>\n",
       "    <tr>\n",
       "      <th>9</th>\n",
       "      <td>False</td>\n",
       "      <td>False</td>\n",
       "      <td>False</td>\n",
       "      <td>False</td>\n",
       "      <td>False</td>\n",
       "      <td>False</td>\n",
       "      <td>False</td>\n",
       "      <td>False</td>\n",
       "      <td>False</td>\n",
       "      <td>False</td>\n",
       "      <td>False</td>\n",
       "      <td>False</td>\n",
       "      <td>False</td>\n",
       "      <td>False</td>\n",
       "      <td>False</td>\n",
       "      <td>False</td>\n",
       "    </tr>\n",
       "    <tr>\n",
       "      <th>10</th>\n",
       "      <td>False</td>\n",
       "      <td>False</td>\n",
       "      <td>False</td>\n",
       "      <td>False</td>\n",
       "      <td>False</td>\n",
       "      <td>False</td>\n",
       "      <td>False</td>\n",
       "      <td>False</td>\n",
       "      <td>False</td>\n",
       "      <td>False</td>\n",
       "      <td>False</td>\n",
       "      <td>False</td>\n",
       "      <td>False</td>\n",
       "      <td>False</td>\n",
       "      <td>False</td>\n",
       "      <td>False</td>\n",
       "    </tr>\n",
       "    <tr>\n",
       "      <th>11</th>\n",
       "      <td>False</td>\n",
       "      <td>False</td>\n",
       "      <td>False</td>\n",
       "      <td>False</td>\n",
       "      <td>False</td>\n",
       "      <td>False</td>\n",
       "      <td>False</td>\n",
       "      <td>False</td>\n",
       "      <td>False</td>\n",
       "      <td>False</td>\n",
       "      <td>False</td>\n",
       "      <td>False</td>\n",
       "      <td>False</td>\n",
       "      <td>False</td>\n",
       "      <td>False</td>\n",
       "      <td>False</td>\n",
       "    </tr>\n",
       "    <tr>\n",
       "      <th>12</th>\n",
       "      <td>False</td>\n",
       "      <td>False</td>\n",
       "      <td>False</td>\n",
       "      <td>False</td>\n",
       "      <td>False</td>\n",
       "      <td>False</td>\n",
       "      <td>False</td>\n",
       "      <td>False</td>\n",
       "      <td>False</td>\n",
       "      <td>False</td>\n",
       "      <td>False</td>\n",
       "      <td>False</td>\n",
       "      <td>False</td>\n",
       "      <td>False</td>\n",
       "      <td>False</td>\n",
       "      <td>False</td>\n",
       "    </tr>\n",
       "    <tr>\n",
       "      <th>13</th>\n",
       "      <td>False</td>\n",
       "      <td>False</td>\n",
       "      <td>False</td>\n",
       "      <td>False</td>\n",
       "      <td>False</td>\n",
       "      <td>False</td>\n",
       "      <td>False</td>\n",
       "      <td>False</td>\n",
       "      <td>False</td>\n",
       "      <td>False</td>\n",
       "      <td>False</td>\n",
       "      <td>False</td>\n",
       "      <td>False</td>\n",
       "      <td>False</td>\n",
       "      <td>False</td>\n",
       "      <td>False</td>\n",
       "    </tr>\n",
       "    <tr>\n",
       "      <th>14</th>\n",
       "      <td>False</td>\n",
       "      <td>False</td>\n",
       "      <td>False</td>\n",
       "      <td>False</td>\n",
       "      <td>False</td>\n",
       "      <td>False</td>\n",
       "      <td>False</td>\n",
       "      <td>False</td>\n",
       "      <td>False</td>\n",
       "      <td>False</td>\n",
       "      <td>False</td>\n",
       "      <td>False</td>\n",
       "      <td>False</td>\n",
       "      <td>False</td>\n",
       "      <td>False</td>\n",
       "      <td>False</td>\n",
       "    </tr>\n",
       "    <tr>\n",
       "      <th>15</th>\n",
       "      <td>False</td>\n",
       "      <td>False</td>\n",
       "      <td>False</td>\n",
       "      <td>False</td>\n",
       "      <td>False</td>\n",
       "      <td>False</td>\n",
       "      <td>False</td>\n",
       "      <td>False</td>\n",
       "      <td>False</td>\n",
       "      <td>False</td>\n",
       "      <td>False</td>\n",
       "      <td>False</td>\n",
       "      <td>False</td>\n",
       "      <td>False</td>\n",
       "      <td>False</td>\n",
       "      <td>False</td>\n",
       "    </tr>\n",
       "  </tbody>\n",
       "</table>\n",
       "</div>"
      ],
      "text/plain": [
       "     year  EBITDA (millions)  Revenue (millions)  Gross Profit (millions)  \\\n",
       "0   False              False               False                    False   \n",
       "1   False              False               False                    False   \n",
       "2   False              False               False                    False   \n",
       "3   False              False               False                    False   \n",
       "4   False              False               False                    False   \n",
       "5   False              False               False                    False   \n",
       "6   False              False               False                    False   \n",
       "7   False              False               False                    False   \n",
       "8   False              False               False                    False   \n",
       "9   False              False               False                    False   \n",
       "10  False              False               False                    False   \n",
       "11  False              False               False                    False   \n",
       "12  False              False               False                    False   \n",
       "13  False              False               False                    False   \n",
       "14  False              False               False                    False   \n",
       "15  False              False               False                    False   \n",
       "\n",
       "    Op Income (millions)  Net Income (millions)    EPS  Shares Outstanding  \\\n",
       "0                  False                  False  False               False   \n",
       "1                  False                  False  False               False   \n",
       "2                  False                  False  False               False   \n",
       "3                  False                  False  False               False   \n",
       "4                  False                  False  False               False   \n",
       "5                  False                  False  False               False   \n",
       "6                  False                  False  False               False   \n",
       "7                  False                  False  False               False   \n",
       "8                  False                  False  False               False   \n",
       "9                  False                  False  False               False   \n",
       "10                 False                  False  False               False   \n",
       "11                 False                  False  False               False   \n",
       "12                 False                  False  False               False   \n",
       "13                 False                  False  False               False   \n",
       "14                 False                  False  False               False   \n",
       "15                 False                  False  False               False   \n",
       "\n",
       "    Year Close Price  Total Assets (millions)  Cash on Hand (millions)  \\\n",
       "0              False                    False                    False   \n",
       "1              False                    False                    False   \n",
       "2              False                    False                    False   \n",
       "3              False                    False                    False   \n",
       "4              False                    False                    False   \n",
       "5              False                    False                    False   \n",
       "6              False                    False                    False   \n",
       "7              False                    False                    False   \n",
       "8              False                    False                    False   \n",
       "9              False                    False                    False   \n",
       "10             False                    False                    False   \n",
       "11             False                    False                    False   \n",
       "12             False                    False                    False   \n",
       "13             False                    False                    False   \n",
       "14             False                    False                    False   \n",
       "15             False                    False                    False   \n",
       "\n",
       "    Long Term Debt (millions)  Total Liabilities (millions)  Gross Margin  \\\n",
       "0                       False                         False         False   \n",
       "1                       False                         False         False   \n",
       "2                       False                         False         False   \n",
       "3                       False                         False         False   \n",
       "4                       False                         False         False   \n",
       "5                       False                         False         False   \n",
       "6                       False                         False         False   \n",
       "7                       False                         False         False   \n",
       "8                       False                         False         False   \n",
       "9                       False                         False         False   \n",
       "10                      False                         False         False   \n",
       "11                      False                         False         False   \n",
       "12                      False                         False         False   \n",
       "13                      False                         False         False   \n",
       "14                      False                         False         False   \n",
       "15                      False                         False         False   \n",
       "\n",
       "    PE ratio  Employees  \n",
       "0      False      False  \n",
       "1      False      False  \n",
       "2      False      False  \n",
       "3      False      False  \n",
       "4      False      False  \n",
       "5      False      False  \n",
       "6      False      False  \n",
       "7      False      False  \n",
       "8      False      False  \n",
       "9      False      False  \n",
       "10     False      False  \n",
       "11     False      False  \n",
       "12     False      False  \n",
       "13     False      False  \n",
       "14     False      False  \n",
       "15     False      False  "
      ]
     },
     "execution_count": 8,
     "metadata": {},
     "output_type": "execute_result"
    }
   ],
   "source": [
    "data.isnull()"
   ]
  },
  {
   "cell_type": "code",
   "execution_count": 9,
   "id": "96092416",
   "metadata": {},
   "outputs": [
    {
     "data": {
      "text/plain": [
       "0     False\n",
       "1     False\n",
       "2     False\n",
       "3     False\n",
       "4     False\n",
       "5     False\n",
       "6     False\n",
       "7     False\n",
       "8     False\n",
       "9     False\n",
       "10    False\n",
       "11    False\n",
       "12    False\n",
       "13    False\n",
       "14    False\n",
       "15    False\n",
       "dtype: bool"
      ]
     },
     "execution_count": 9,
     "metadata": {},
     "output_type": "execute_result"
    }
   ],
   "source": [
    "data.duplicated()"
   ]
  },
  {
   "cell_type": "code",
   "execution_count": 10,
   "id": "1842caff",
   "metadata": {},
   "outputs": [
    {
     "data": {
      "text/plain": [
       "year                            0\n",
       "EBITDA (millions)               0\n",
       "Revenue (millions)              0\n",
       "Gross Profit (millions)         0\n",
       "Op Income (millions)            0\n",
       "Net Income (millions)           0\n",
       "EPS                             0\n",
       "Shares Outstanding              0\n",
       "Year Close Price                0\n",
       "Total Assets (millions)         0\n",
       "Cash on Hand (millions)         0\n",
       "Long Term Debt (millions)       0\n",
       "Total Liabilities (millions)    0\n",
       "Gross Margin                    0\n",
       "PE ratio                        0\n",
       "Employees                       0\n",
       "dtype: int64"
      ]
     },
     "execution_count": 10,
     "metadata": {},
     "output_type": "execute_result"
    }
   ],
   "source": [
    "data.isnull().sum()"
   ]
  },
  {
   "cell_type": "code",
   "execution_count": 11,
   "id": "1be42878",
   "metadata": {},
   "outputs": [
    {
     "name": "stdout",
     "output_type": "stream",
     "text": [
      "Columns containing $: ['EBITDA (millions)', 'Revenue (millions)', 'Gross Profit (millions)', 'Op Income (millions)', 'Net Income (millions)', 'EPS', 'Total Assets (millions)', 'Cash on Hand (millions)', 'Long Term Debt (millions)', 'Total Liabilities (millions)']\n"
     ]
    }
   ],
   "source": [
    "# Identify columns containing '$'\n",
    "dollar_columns = [col for col in data.columns if data[col].astype(str).str.contains('\\$').any()]\n",
    "print(\"Columns containing $:\", dollar_columns)"
   ]
  },
  {
   "cell_type": "code",
   "execution_count": 12,
   "id": "3fbe919e",
   "metadata": {},
   "outputs": [],
   "source": [
    "# Remove $ and commas, then convert to numeric\n",
    "for col in dollar_columns:\n",
    "    data[col] = data[col].str.replace('[$,]', '', regex=True).astype(float)"
   ]
  },
  {
   "cell_type": "markdown",
   "id": "9740430e",
   "metadata": {},
   "source": [
    "# Data Visualizations"
   ]
  },
  {
   "cell_type": "markdown",
   "id": "c492d743",
   "metadata": {},
   "source": [
    " 1) Financial Metrics Visualizations"
   ]
  },
  {
   "cell_type": "code",
   "execution_count": 25,
   "id": "0eb81a5b",
   "metadata": {},
   "outputs": [
    {
     "data": {
      "image/png": "[encoded data removed]",
      "text/plain": [
       "<Figure size 1000x800 with 1 Axes>"
      ]
     },
     "metadata": {},
     "output_type": "display_data"
    }
   ],
   "source": [
    "#Creating a line plot\n",
    "#displays the trends of four financial metrics — EBITDA, Revenue, Gross Profit, and Net Income over the years\n",
    "plt.figure(figsize = (10, 8))\n",
    "plt.plot(data['year'], data['EBITDA (millions)'], label = 'EBITDA (millions)', color = 'purple', marker = 's')\n",
    "plt.plot(data['year'], data['Revenue (millions)'], label = 'Revenue (millions)', color = 'green', marker = 's')\n",
    "plt.plot(data['year'], data['Gross Profit (millions)'], label = 'Gross Profit (millions)', color = 'blue', marker = 's')\n",
    "plt.plot(data['year'], data['Net Income (millions)'], label = 'Net Income (millions)', color = 'red', marker = 's')\n",
    "\n",
    "plt.title('EBITDA, Revenue, Gross Profit and Net Income over the years')\n",
    "plt.xlabel('Year')\n",
    "plt.ylabel('Amount in Millions')\n",
    "plt.legend()\n",
    "plt.grid()\n",
    "plt.show()"
   ]
  },
  {
   "cell_type": "markdown",
   "id": "955c47a5",
   "metadata": {},
   "source": [
    "Explanation: The plot provides a visual comparison of the financial performance of a company over time, focusing on key metrics such as EBITDA, Revenue, Gross Profit, and Net Income. By plotting these metrics on the same graph, you can easily observe trends, growth, or declines in the company's financial health, making it easier to compare the performance of different metrics across multiple years. The use of distinct colors and square markers adds clarity to the plot, ensuring that each metric is easily distinguishable."
   ]
  },
  {
   "cell_type": "markdown",
   "id": "8f14897c",
   "metadata": {},
   "source": [
    "Performance Ratios over the years(2009 - 2024)"
   ]
  },
  {
   "cell_type": "code",
   "execution_count": 22,
   "id": "609a5c3a",
   "metadata": {},
   "outputs": [
    {
     "data": {
      "image/png": "[encoded data removed]",
      "text/plain": [
       "<Figure size 1000x600 with 2 Axes>"
      ]
     },
     "metadata": {},
     "output_type": "display_data"
    }
   ],
   "source": [
    "#Creating a bar plots\n",
    "#displaying the trends of two different financial metrics — Gross Margin and Price-to-Earnings (PE) ratio — over time\n",
    "plt.figure(figsize = (10, 6))\n",
    "\n",
    "plt.subplot(1, 2, 1)  # 2 rows, 1 column, 2nd subplot\n",
    "plt.bar(data['year'], data['Gross Margin'], color='green')\n",
    "plt.title('Gross Margin Over Time')\n",
    "plt.xlabel('Year')\n",
    "plt.ylabel('Gross Margin')\n",
    "\n",
    "plt.subplot(1, 2, 2)\n",
    "plt.bar(data['year'], data['PE ratio'], color='blue')\n",
    "plt.title('Price-to-earnings ratio Over Time')\n",
    "plt.xlabel('Year')\n",
    "plt.ylabel('PE ratio')\n",
    "\n",
    "plt.tight_layout()\n",
    "plt.show()"
   ]
  },
  {
   "cell_type": "markdown",
   "id": "07e3a91b",
   "metadata": {},
   "source": [
    "Explanation:The plots displays two separate but related financial metrics (Gross Margin and PE ratio) in a side-by-side format. This approach allows easy comparison of these metrics over time. The use of bar charts visually highlights changes or trends in both the Gross Margin and PE ratio, with the green bars representing Gross Margin and the blue bars representing the PE ratio. The layout and spacing adjustments ensure that the charts are presented clearly, with sufficient room for axis labels and titles. This visualization is effective for analyzing how the company’s profitability and valuation (through the PE ratio) evolve over the years."
   ]
  },
  {
   "cell_type": "code",
   "execution_count": 24,
   "id": "ff516758",
   "metadata": {},
   "outputs": [
    {
     "data": {
      "image/png": "[encoded data removed]",
      "text/plain": [
       "<Figure size 1000x600 with 2 Axes>"
      ]
     },
     "metadata": {},
     "output_type": "display_data"
    }
   ],
   "source": [
    "#Creating a bar plots\n",
    "#displaying the trends of two different financial metrics — Total Assets and Cash on Hand — over time\n",
    "plt.figure(figsize = (10, 6))\n",
    "\n",
    "plt.subplot(1, 2, 1)  # 2 rows, 1 column, 2nd subplot\n",
    "plt.bar(data['year'], data['Total Assets (millions)'], color='red')\n",
    "plt.title('Total Assets Over Time')\n",
    "plt.xlabel('Year')\n",
    "plt.ylabel('Total Assets (millions)')\n",
    "\n",
    "plt.subplot(1, 2, 2)\n",
    "plt.bar(data['year'], data['Cash on Hand (millions)'], color='orange')\n",
    "plt.title('Cash on Hand Over Time')\n",
    "plt.xlabel('Year')\n",
    "plt.ylabel('Cash on Hand (millions)')\n",
    "\n",
    "plt.tight_layout()\n",
    "plt.show()"
   ]
  },
  {
   "cell_type": "markdown",
   "id": "9764a5c2",
   "metadata": {},
   "source": [
    "Explanation: This visualization provides a clear comparison of how Total Assets and Cash on Hand evolve over the years, helping to analyze the company’s financial position in terms of its asset base and liquidity."
   ]
  },
  {
   "cell_type": "code",
   "execution_count": 15,
   "id": "b416906c",
   "metadata": {},
   "outputs": [
    {
     "data": {
      "image/png": "[encoded data removed]",
      "text/plain": [
       "<Figure size 700x600 with 1 Axes>"
      ]
     },
     "metadata": {},
     "output_type": "display_data"
    }
   ],
   "source": [
    "plt.figure(figsize=(7, 6))\n",
    "\n",
    "# Area chart for Year Close Price\n",
    "plt.fill_between(data['year'], data['Year Close Price'], color='blue', alpha=0.5)\n",
    "\n",
    "# Add a line for clarity\n",
    "plt.plot(data['year'], data['Year Close Price'], color='blue', marker='o', label='Year Close Price')\n",
    "\n",
    "# Add titles and labels\n",
    "plt.title('Cumulative Share Price Trend Over Time')\n",
    "plt.xlabel('Year')\n",
    "plt.ylabel('Year Close Price')\n",
    "plt.legend()\n",
    "plt.show()"
   ]
  },
  {
   "cell_type": "markdown",
   "id": "c5cdace8",
   "metadata": {},
   "source": [
    "Explaination: This visualization combines an area chart with a line chart to show the year-end closing price of shares over time. The area chart highlights the cumulative share price, while the line chart provides a clear view of the fluctuations in the closing price for each year. This dual representation helps in understanding both the overall trend and the specific yearly changes in share price. The transparent blue fill and markers enhance the visual appeal and make it easier to track the data points on the plot."
   ]
  },
  {
   "cell_type": "code",
   "execution_count": 52,
   "id": "c96eb2c9",
   "metadata": {},
   "outputs": [
    {
     "data": {
      "application/vnd.plotly.v1+json": {
       "config": {
        "plotlyServerURL": "https://plot.ly"
       },
       "data": [
        {
         "hovertemplate": "Metric=Total Liabilities (millions)<br>Year=%{x}<br>Value=%{y}<extra></extra>",
         "legendgroup": "Total Liabilities (millions)",
         "line": {
          "color": "#636efa",
          "dash": "solid"
         },
         "marker": {
          "symbol": "circle"
         },
         "mode": "lines",
         "name": "Total Liabilities (millions)",
         "orientation": "v",
         "showlegend": true,
         "type": "scatter",
         "x": [
          2024,
          2023,
          2022,
          2021,
          2020,
          2019,
          2018,
          2017,
          2016,
          2015,
          2014,
          2013,
          2012,
          2011,
          2010,
          2009
         ],
         "xaxis": "x",
         "y": [
          308030,
          290437,
          302083,
          287912,
          258549,
          248028,
          258578,
          241272,
          193437,
          170990,
          120292,
          83451,
          57854,
          39756,
          27392,
          15861
         ],
         "yaxis": "y"
        },
        {
         "hovertemplate": "Metric=Employees<br>Year=%{x}<br>Value=%{y}<extra></extra>",
         "legendgroup": "Employees",
         "line": {
          "color": "#EF553B",
          "dash": "solid"
         },
         "marker": {
          "symbol": "circle"
         },
         "mode": "lines",
         "name": "Employees",
         "orientation": "v",
         "showlegend": true,
         "type": "scatter",
         "x": [
          2024,
          2023,
          2022,
          2021,
          2020,
          2019,
          2018,
          2017,
          2016,
          2015,
          2014,
          2013,
          2012,
          2011,
          2010,
          2009
         ],
         "xaxis": "x",
         "y": [
          164000,
          161000,
          164000,
          154000,
          147000,
          137000,
          132000,
          123000,
          116000,
          110000,
          97000,
          84400,
          76100,
          63300,
          49400,
          36800
         ],
         "yaxis": "y"
        }
       ],
       "layout": {
        "legend": {
         "title": {
          "text": "Metric"
         },
         "tracegroupgap": 0
        },
        "template": {
         "data": {
          "bar": [
           {
            "error_x": {
             "color": "#2a3f5f"
            },
            "error_y": {
             "color": "#2a3f5f"
            },
            "marker": {
             "line": {
              "color": "#E5ECF6",
              "width": 0.5
             },
             "pattern": {
              "fillmode": "overlay",
              "size": 10,
              "solidity": 0.2
             }
            },
            "type": "bar"
           }
          ],
          "barpolar": [
           {
            "marker": {
             "line": {
              "color": "#E5ECF6",
              "width": 0.5
             },
             "pattern": {
              "fillmode": "overlay",
              "size": 10,
              "solidity": 0.2
             }
            },
            "type": "barpolar"
           }
          ],
          "carpet": [
           {
            "aaxis": {
             "endlinecolor": "#2a3f5f",
             "gridcolor": "white",
             "linecolor": "white",
             "minorgridcolor": "white",
             "startlinecolor": "#2a3f5f"
            },
            "baxis": {
             "endlinecolor": "#2a3f5f",
             "gridcolor": "white",
             "linecolor": "white",
             "minorgridcolor": "white",
             "startlinecolor": "#2a3f5f"
            },
            "type": "carpet"
           }
          ],
          "choropleth": [
           {
            "colorbar": {
             "outlinewidth": 0,
             "ticks": ""
            },
            "type": "choropleth"
           }
          ],
          "contour": [
           {
            "colorbar": {
             "outlinewidth": 0,
             "ticks": ""
            },
            "colorscale": [
             [
              0,
              "#0d0887"
             ],
             [
              0.1111111111111111,
              "#46039f"
             ],
             [
              0.2222222222222222,
              "#7201a8"
             ],
             [
              0.3333333333333333,
              "#9c179e"
             ],
             [
              0.4444444444444444,
              "#bd3786"
             ],
             [
              0.5555555555555556,
              "#d8576b"
             ],
             [
              0.6666666666666666,
              "#ed7953"
             ],
             [
              0.7777777777777778,
              "#fb9f3a"
             ],
             [
              0.8888888888888888,
              "#fdca26"
             ],
             [
              1,
              "#f0f921"
             ]
            ],
            "type": "contour"
           }
          ],
          "contourcarpet": [
           {
            "colorbar": {
             "outlinewidth": 0,
             "ticks": ""
            },
            "type": "contourcarpet"
           }
          ],
          "heatmap": [
           {
            "colorbar": {
             "outlinewidth": 0,
             "ticks": ""
            },
            "colorscale": [
             [
              0,
              "#0d0887"
             ],
             [
              0.1111111111111111,
              "#46039f"
             ],
             [
              0.2222222222222222,
              "#7201a8"
             ],
             [
              0.3333333333333333,
              "#9c179e"
             ],
             [
              0.4444444444444444,
              "#bd3786"
             ],
             [
              0.5555555555555556,
              "#d8576b"
             ],
             [
              0.6666666666666666,
              "#ed7953"
             ],
             [
              0.7777777777777778,
              "#fb9f3a"
             ],
             [
              0.8888888888888888,
              "#fdca26"
             ],
             [
              1,
              "#f0f921"
             ]
            ],
            "type": "heatmap"
           }
          ],
          "heatmapgl": [
           {
            "colorbar": {
             "outlinewidth": 0,
             "ticks": ""
            },
            "colorscale": [
             [
              0,
              "#0d0887"
             ],
             [
              0.1111111111111111,
              "#46039f"
             ],
             [
              0.2222222222222222,
              "#7201a8"
             ],
             [
              0.3333333333333333,
              "#9c179e"
             ],
             [
              0.4444444444444444,
              "#bd3786"
             ],
             [
              0.5555555555555556,
              "#d8576b"
             ],
             [
              0.6666666666666666,
              "#ed7953"
             ],
             [
              0.7777777777777778,
              "#fb9f3a"
             ],
             [
              0.8888888888888888,
              "#fdca26"
             ],
             [
              1,
              "#f0f921"
             ]
            ],
            "type": "heatmapgl"
           }
          ],
          "histogram": [
           {
            "marker": {
             "pattern": {
              "fillmode": "overlay",
              "size": 10,
              "solidity": 0.2
             }
            },
            "type": "histogram"
           }
          ],
          "histogram2d": [
           {
            "colorbar": {
             "outlinewidth": 0,
             "ticks": ""
            },
            "colorscale": [
             [
              0,
              "#0d0887"
             ],
             [
              0.1111111111111111,
              "#46039f"
             ],
             [
              0.2222222222222222,
              "#7201a8"
             ],
             [
              0.3333333333333333,
              "#9c179e"
             ],
             [
              0.4444444444444444,
              "#bd3786"
             ],
             [
              0.5555555555555556,
              "#d8576b"
             ],
             [
              0.6666666666666666,
              "#ed7953"
             ],
             [
              0.7777777777777778,
              "#fb9f3a"
             ],
             [
              0.8888888888888888,
              "#fdca26"
             ],
             [
              1,
              "#f0f921"
             ]
            ],
            "type": "histogram2d"
           }
          ],
          "histogram2dcontour": [
           {
            "colorbar": {
             "outlinewidth": 0,
             "ticks": ""
            },
            "colorscale": [
             [
              0,
              "#0d0887"
             ],
             [
              0.1111111111111111,
              "#46039f"
             ],
             [
              0.2222222222222222,
              "#7201a8"
             ],
             [
              0.3333333333333333,
              "#9c179e"
             ],
             [
              0.4444444444444444,
              "#bd3786"
             ],
             [
              0.5555555555555556,
              "#d8576b"
             ],
             [
              0.6666666666666666,
              "#ed7953"
             ],
             [
              0.7777777777777778,
              "#fb9f3a"
             ],
             [
              0.8888888888888888,
              "#fdca26"
             ],
             [
              1,
              "#f0f921"
             ]
            ],
            "type": "histogram2dcontour"
           }
          ],
          "mesh3d": [
           {
            "colorbar": {
             "outlinewidth": 0,
             "ticks": ""
            },
            "type": "mesh3d"
           }
          ],
          "parcoords": [
           {
            "line": {
             "colorbar": {
              "outlinewidth": 0,
              "ticks": ""
             }
            },
            "type": "parcoords"
           }
          ],
          "pie": [
           {
            "automargin": true,
            "type": "pie"
           }
          ],
          "scatter": [
           {
            "fillpattern": {
             "fillmode": "overlay",
             "size": 10,
             "solidity": 0.2
            },
            "type": "scatter"
           }
          ],
          "scatter3d": [
           {
            "line": {
             "colorbar": {
              "outlinewidth": 0,
              "ticks": ""
             }
            },
            "marker": {
             "colorbar": {
              "outlinewidth": 0,
              "ticks": ""
             }
            },
            "type": "scatter3d"
           }
          ],
          "scattercarpet": [
           {
            "marker": {
             "colorbar": {
              "outlinewidth": 0,
              "ticks": ""
             }
            },
            "type": "scattercarpet"
           }
          ],
          "scattergeo": [
           {
            "marker": {
             "colorbar": {
              "outlinewidth": 0,
              "ticks": ""
             }
            },
            "type": "scattergeo"
           }
          ],
          "scattergl": [
           {
            "marker": {
             "colorbar": {
              "outlinewidth": 0,
              "ticks": ""
             }
            },
            "type": "scattergl"
           }
          ],
          "scattermapbox": [
           {
            "marker": {
             "colorbar": {
              "outlinewidth": 0,
              "ticks": ""
             }
            },
            "type": "scattermapbox"
           }
          ],
          "scatterpolar": [
           {
            "marker": {
             "colorbar": {
              "outlinewidth": 0,
              "ticks": ""
             }
            },
            "type": "scatterpolar"
           }
          ],
          "scatterpolargl": [
           {
            "marker": {
             "colorbar": {
              "outlinewidth": 0,
              "ticks": ""
             }
            },
            "type": "scatterpolargl"
           }
          ],
          "scatterternary": [
           {
            "marker": {
             "colorbar": {
              "outlinewidth": 0,
              "ticks": ""
             }
            },
            "type": "scatterternary"
           }
          ],
          "surface": [
           {
            "colorbar": {
             "outlinewidth": 0,
             "ticks": ""
            },
            "colorscale": [
             [
              0,
              "#0d0887"
             ],
             [
              0.1111111111111111,
              "#46039f"
             ],
             [
              0.2222222222222222,
              "#7201a8"
             ],
             [
              0.3333333333333333,
              "#9c179e"
             ],
             [
              0.4444444444444444,
              "#bd3786"
             ],
             [
              0.5555555555555556,
              "#d8576b"
             ],
             [
              0.6666666666666666,
              "#ed7953"
             ],
             [
              0.7777777777777778,
              "#fb9f3a"
             ],
             [
              0.8888888888888888,
              "#fdca26"
             ],
             [
              1,
              "#f0f921"
             ]
            ],
            "type": "surface"
           }
          ],
          "table": [
           {
            "cells": {
             "fill": {
              "color": "#EBF0F8"
             },
             "line": {
              "color": "white"
             }
            },
            "header": {
             "fill": {
              "color": "#C8D4E3"
             },
             "line": {
              "color": "white"
             }
            },
            "type": "table"
           }
          ]
         },
         "layout": {
          "annotationdefaults": {
           "arrowcolor": "#2a3f5f",
           "arrowhead": 0,
           "arrowwidth": 1
          },
          "autotypenumbers": "strict",
          "coloraxis": {
           "colorbar": {
            "outlinewidth": 0,
            "ticks": ""
           }
          },
          "colorscale": {
           "diverging": [
            [
             0,
             "#8e0152"
            ],
            [
             0.1,
             "#c51b7d"
            ],
            [
             0.2,
             "#de77ae"
            ],
            [
             0.3,
             "#f1b6da"
            ],
            [
             0.4,
             "#fde0ef"
            ],
            [
             0.5,
             "#f7f7f7"
            ],
            [
             0.6,
             "#e6f5d0"
            ],
            [
             0.7,
             "#b8e186"
            ],
            [
             0.8,
             "#7fbc41"
            ],
            [
             0.9,
             "#4d9221"
            ],
            [
             1,
             "#276419"
            ]
           ],
           "sequential": [
            [
             0,
             "#0d0887"
            ],
            [
             0.1111111111111111,
             "#46039f"
            ],
            [
             0.2222222222222222,
             "#7201a8"
            ],
            [
             0.3333333333333333,
             "#9c179e"
            ],
            [
             0.4444444444444444,
             "#bd3786"
            ],
            [
             0.5555555555555556,
             "#d8576b"
            ],
            [
             0.6666666666666666,
             "#ed7953"
            ],
            [
             0.7777777777777778,
             "#fb9f3a"
            ],
            [
             0.8888888888888888,
             "#fdca26"
            ],
            [
             1,
             "#f0f921"
            ]
           ],
           "sequentialminus": [
            [
             0,
             "#0d0887"
            ],
            [
             0.1111111111111111,
             "#46039f"
            ],
            [
             0.2222222222222222,
             "#7201a8"
            ],
            [
             0.3333333333333333,
             "#9c179e"
            ],
            [
             0.4444444444444444,
             "#bd3786"
            ],
            [
             0.5555555555555556,
             "#d8576b"
            ],
            [
             0.6666666666666666,
             "#ed7953"
            ],
            [
             0.7777777777777778,
             "#fb9f3a"
            ],
            [
             0.8888888888888888,
             "#fdca26"
            ],
            [
             1,
             "#f0f921"
            ]
           ]
          },
          "colorway": [
           "#636efa",
           "#EF553B",
           "#00cc96",
           "#ab63fa",
           "#FFA15A",
           "#19d3f3",
           "#FF6692",
           "#B6E880",
           "#FF97FF",
           "#FECB52"
          ],
          "font": {
           "color": "#2a3f5f"
          },
          "geo": {
           "bgcolor": "white",
           "lakecolor": "white",
           "landcolor": "#E5ECF6",
           "showlakes": true,
           "showland": true,
           "subunitcolor": "white"
          },
          "hoverlabel": {
           "align": "left"
          },
          "hovermode": "closest",
          "mapbox": {
           "style": "light"
          },
          "paper_bgcolor": "white",
          "plot_bgcolor": "#E5ECF6",
          "polar": {
           "angularaxis": {
            "gridcolor": "white",
            "linecolor": "white",
            "ticks": ""
           },
           "bgcolor": "#E5ECF6",
           "radialaxis": {
            "gridcolor": "white",
            "linecolor": "white",
            "ticks": ""
           }
          },
          "scene": {
           "xaxis": {
            "backgroundcolor": "#E5ECF6",
            "gridcolor": "white",
            "gridwidth": 2,
            "linecolor": "white",
            "showbackground": true,
            "ticks": "",
            "zerolinecolor": "white"
           },
           "yaxis": {
            "backgroundcolor": "#E5ECF6",
            "gridcolor": "white",
            "gridwidth": 2,
            "linecolor": "white",
            "showbackground": true,
            "ticks": "",
            "zerolinecolor": "white"
           },
           "zaxis": {
            "backgroundcolor": "#E5ECF6",
            "gridcolor": "white",
            "gridwidth": 2,
            "linecolor": "white",
            "showbackground": true,
            "ticks": "",
            "zerolinecolor": "white"
           }
          },
          "shapedefaults": {
           "line": {
            "color": "#2a3f5f"
           }
          },
          "ternary": {
           "aaxis": {
            "gridcolor": "white",
            "linecolor": "white",
            "ticks": ""
           },
           "baxis": {
            "gridcolor": "white",
            "linecolor": "white",
            "ticks": ""
           },
           "bgcolor": "#E5ECF6",
           "caxis": {
            "gridcolor": "white",
            "linecolor": "white",
            "ticks": ""
           }
          },
          "title": {
           "x": 0.05
          },
          "xaxis": {
           "automargin": true,
           "gridcolor": "white",
           "linecolor": "white",
           "ticks": "",
           "title": {
            "standoff": 15
           },
           "zerolinecolor": "white",
           "zerolinewidth": 2
          },
          "yaxis": {
           "automargin": true,
           "gridcolor": "white",
           "linecolor": "white",
           "ticks": "",
           "title": {
            "standoff": 15
           },
           "zerolinecolor": "white",
           "zerolinewidth": 2
          }
         }
        },
        "title": {
         "text": "Comparison of Total Liabilities and Employees Over Years"
        },
        "xaxis": {
         "anchor": "y",
         "domain": [
          0,
          1
         ],
         "title": {
          "text": "Year"
         }
        },
        "yaxis": {
         "anchor": "x",
         "domain": [
          0,
          1
         ],
         "title": {
          "text": "Value"
         }
        }
       }
      },
      "text/html": [
       "<div>                            <div id=\"fc4d52fe-066e-4099-a546-c448400a114a\" class=\"plotly-graph-div\" style=\"height:525px; width:100%;\"></div>            <script type=\"text/javascript\">                require([\"plotly\"], function(Plotly) {                    window.PLOTLYENV=window.PLOTLYENV || {};                                    if (document.getElementById(\"fc4d52fe-066e-4099-a546-c448400a114a\")) {                    Plotly.newPlot(                        \"fc4d52fe-066e-4099-a546-c448400a114a\",                        [{\"hovertemplate\":\"Metric=Total Liabilities (millions)<br>Year=%{x}<br>Value=%{y}<extra></extra>\",\"legendgroup\":\"Total Liabilities (millions)\",\"line\":{\"color\":\"#636efa\",\"dash\":\"solid\"},\"marker\":{\"symbol\":\"circle\"},\"mode\":\"lines\",\"name\":\"Total Liabilities (millions)\",\"orientation\":\"v\",\"showlegend\":true,\"x\":[2024,2023,2022,2021,2020,2019,2018,2017,2016,2015,2014,2013,2012,2011,2010,2009],\"xaxis\":\"x\",\"y\":[308030.0,290437.0,302083.0,287912.0,258549.0,248028.0,258578.0,241272.0,193437.0,170990.0,120292.0,83451.0,57854.0,39756.0,27392.0,15861.0],\"yaxis\":\"y\",\"type\":\"scatter\"},{\"hovertemplate\":\"Metric=Employees<br>Year=%{x}<br>Value=%{y}<extra></extra>\",\"legendgroup\":\"Employees\",\"line\":{\"color\":\"#EF553B\",\"dash\":\"solid\"},\"marker\":{\"symbol\":\"circle\"},\"mode\":\"lines\",\"name\":\"Employees\",\"orientation\":\"v\",\"showlegend\":true,\"x\":[2024,2023,2022,2021,2020,2019,2018,2017,2016,2015,2014,2013,2012,2011,2010,2009],\"xaxis\":\"x\",\"y\":[164000.0,161000.0,164000.0,154000.0,147000.0,137000.0,132000.0,123000.0,116000.0,110000.0,97000.0,84400.0,76100.0,63300.0,49400.0,36800.0],\"yaxis\":\"y\",\"type\":\"scatter\"}],                        {\"template\":{\"data\":{\"histogram2dcontour\":[{\"type\":\"histogram2dcontour\",\"colorbar\":{\"outlinewidth\":0,\"ticks\":\"\"},\"colorscale\":[[0.0,\"#0d0887\"],[0.1111111111111111,\"#46039f\"],[0.2222222222222222,\"#7201a8\"],[0.3333333333333333,\"#9c179e\"],[0.4444444444444444,\"#bd3786\"],[0.5555555555555556,\"#d8576b\"],[0.6666666666666666,\"#ed7953\"],[0.7777777777777778,\"#fb9f3a\"],[0.8888888888888888,\"#fdca26\"],[1.0,\"#f0f921\"]]}],\"choropleth\":[{\"type\":\"choropleth\",\"colorbar\":{\"outlinewidth\":0,\"ticks\":\"\"}}],\"histogram2d\":[{\"type\":\"histogram2d\",\"colorbar\":{\"outlinewidth\":0,\"ticks\":\"\"},\"colorscale\":[[0.0,\"#0d0887\"],[0.1111111111111111,\"#46039f\"],[0.2222222222222222,\"#7201a8\"],[0.3333333333333333,\"#9c179e\"],[0.4444444444444444,\"#bd3786\"],[0.5555555555555556,\"#d8576b\"],[0.6666666666666666,\"#ed7953\"],[0.7777777777777778,\"#fb9f3a\"],[0.8888888888888888,\"#fdca26\"],[1.0,\"#f0f921\"]]}],\"heatmap\":[{\"type\":\"heatmap\",\"colorbar\":{\"outlinewidth\":0,\"ticks\":\"\"},\"colorscale\":[[0.0,\"#0d0887\"],[0.1111111111111111,\"#46039f\"],[0.2222222222222222,\"#7201a8\"],[0.3333333333333333,\"#9c179e\"],[0.4444444444444444,\"#bd3786\"],[0.5555555555555556,\"#d8576b\"],[0.6666666666666666,\"#ed7953\"],[0.7777777777777778,\"#fb9f3a\"],[0.8888888888888888,\"#fdca26\"],[1.0,\"#f0f921\"]]}],\"heatmapgl\":[{\"type\":\"heatmapgl\",\"colorbar\":{\"outlinewidth\":0,\"ticks\":\"\"},\"colorscale\":[[0.0,\"#0d0887\"],[0.1111111111111111,\"#46039f\"],[0.2222222222222222,\"#7201a8\"],[0.3333333333333333,\"#9c179e\"],[0.4444444444444444,\"#bd3786\"],[0.5555555555555556,\"#d8576b\"],[0.6666666666666666,\"#ed7953\"],[0.7777777777777778,\"#fb9f3a\"],[0.8888888888888888,\"#fdca26\"],[1.0,\"#f0f921\"]]}],\"contourcarpet\":[{\"type\":\"contourcarpet\",\"colorbar\":{\"outlinewidth\":0,\"ticks\":\"\"}}],\"contour\":[{\"type\":\"contour\",\"colorbar\":{\"outlinewidth\":0,\"ticks\":\"\"},\"colorscale\":[[0.0,\"#0d0887\"],[0.1111111111111111,\"#46039f\"],[0.2222222222222222,\"#7201a8\"],[0.3333333333333333,\"#9c179e\"],[0.4444444444444444,\"#bd3786\"],[0.5555555555555556,\"#d8576b\"],[0.6666666666666666,\"#ed7953\"],[0.7777777777777778,\"#fb9f3a\"],[0.8888888888888888,\"#fdca26\"],[1.0,\"#f0f921\"]]}],\"surface\":[{\"type\":\"surface\",\"colorbar\":{\"outlinewidth\":0,\"ticks\":\"\"},\"colorscale\":[[0.0,\"#0d0887\"],[0.1111111111111111,\"#46039f\"],[0.2222222222222222,\"#7201a8\"],[0.3333333333333333,\"#9c179e\"],[0.4444444444444444,\"#bd3786\"],[0.5555555555555556,\"#d8576b\"],[0.6666666666666666,\"#ed7953\"],[0.7777777777777778,\"#fb9f3a\"],[0.8888888888888888,\"#fdca26\"],[1.0,\"#f0f921\"]]}],\"mesh3d\":[{\"type\":\"mesh3d\",\"colorbar\":{\"outlinewidth\":0,\"ticks\":\"\"}}],\"scatter\":[{\"fillpattern\":{\"fillmode\":\"overlay\",\"size\":10,\"solidity\":0.2},\"type\":\"scatter\"}],\"parcoords\":[{\"type\":\"parcoords\",\"line\":{\"colorbar\":{\"outlinewidth\":0,\"ticks\":\"\"}}}],\"scatterpolargl\":[{\"type\":\"scatterpolargl\",\"marker\":{\"colorbar\":{\"outlinewidth\":0,\"ticks\":\"\"}}}],\"bar\":[{\"error_x\":{\"color\":\"#2a3f5f\"},\"error_y\":{\"color\":\"#2a3f5f\"},\"marker\":{\"line\":{\"color\":\"#E5ECF6\",\"width\":0.5},\"pattern\":{\"fillmode\":\"overlay\",\"size\":10,\"solidity\":0.2}},\"type\":\"bar\"}],\"scattergeo\":[{\"type\":\"scattergeo\",\"marker\":{\"colorbar\":{\"outlinewidth\":0,\"ticks\":\"\"}}}],\"scatterpolar\":[{\"type\":\"scatterpolar\",\"marker\":{\"colorbar\":{\"outlinewidth\":0,\"ticks\":\"\"}}}],\"histogram\":[{\"marker\":{\"pattern\":{\"fillmode\":\"overlay\",\"size\":10,\"solidity\":0.2}},\"type\":\"histogram\"}],\"scattergl\":[{\"type\":\"scattergl\",\"marker\":{\"colorbar\":{\"outlinewidth\":0,\"ticks\":\"\"}}}],\"scatter3d\":[{\"type\":\"scatter3d\",\"line\":{\"colorbar\":{\"outlinewidth\":0,\"ticks\":\"\"}},\"marker\":{\"colorbar\":{\"outlinewidth\":0,\"ticks\":\"\"}}}],\"scattermapbox\":[{\"type\":\"scattermapbox\",\"marker\":{\"colorbar\":{\"outlinewidth\":0,\"ticks\":\"\"}}}],\"scatterternary\":[{\"type\":\"scatterternary\",\"marker\":{\"colorbar\":{\"outlinewidth\":0,\"ticks\":\"\"}}}],\"scattercarpet\":[{\"type\":\"scattercarpet\",\"marker\":{\"colorbar\":{\"outlinewidth\":0,\"ticks\":\"\"}}}],\"carpet\":[{\"aaxis\":{\"endlinecolor\":\"#2a3f5f\",\"gridcolor\":\"white\",\"linecolor\":\"white\",\"minorgridcolor\":\"white\",\"startlinecolor\":\"#2a3f5f\"},\"baxis\":{\"endlinecolor\":\"#2a3f5f\",\"gridcolor\":\"white\",\"linecolor\":\"white\",\"minorgridcolor\":\"white\",\"startlinecolor\":\"#2a3f5f\"},\"type\":\"carpet\"}],\"table\":[{\"cells\":{\"fill\":{\"color\":\"#EBF0F8\"},\"line\":{\"color\":\"white\"}},\"header\":{\"fill\":{\"color\":\"#C8D4E3\"},\"line\":{\"color\":\"white\"}},\"type\":\"table\"}],\"barpolar\":[{\"marker\":{\"line\":{\"color\":\"#E5ECF6\",\"width\":0.5},\"pattern\":{\"fillmode\":\"overlay\",\"size\":10,\"solidity\":0.2}},\"type\":\"barpolar\"}],\"pie\":[{\"automargin\":true,\"type\":\"pie\"}]},\"layout\":{\"autotypenumbers\":\"strict\",\"colorway\":[\"#636efa\",\"#EF553B\",\"#00cc96\",\"#ab63fa\",\"#FFA15A\",\"#19d3f3\",\"#FF6692\",\"#B6E880\",\"#FF97FF\",\"#FECB52\"],\"font\":{\"color\":\"#2a3f5f\"},\"hovermode\":\"closest\",\"hoverlabel\":{\"align\":\"left\"},\"paper_bgcolor\":\"white\",\"plot_bgcolor\":\"#E5ECF6\",\"polar\":{\"bgcolor\":\"#E5ECF6\",\"angularaxis\":{\"gridcolor\":\"white\",\"linecolor\":\"white\",\"ticks\":\"\"},\"radialaxis\":{\"gridcolor\":\"white\",\"linecolor\":\"white\",\"ticks\":\"\"}},\"ternary\":{\"bgcolor\":\"#E5ECF6\",\"aaxis\":{\"gridcolor\":\"white\",\"linecolor\":\"white\",\"ticks\":\"\"},\"baxis\":{\"gridcolor\":\"white\",\"linecolor\":\"white\",\"ticks\":\"\"},\"caxis\":{\"gridcolor\":\"white\",\"linecolor\":\"white\",\"ticks\":\"\"}},\"coloraxis\":{\"colorbar\":{\"outlinewidth\":0,\"ticks\":\"\"}},\"colorscale\":{\"sequential\":[[0.0,\"#0d0887\"],[0.1111111111111111,\"#46039f\"],[0.2222222222222222,\"#7201a8\"],[0.3333333333333333,\"#9c179e\"],[0.4444444444444444,\"#bd3786\"],[0.5555555555555556,\"#d8576b\"],[0.6666666666666666,\"#ed7953\"],[0.7777777777777778,\"#fb9f3a\"],[0.8888888888888888,\"#fdca26\"],[1.0,\"#f0f921\"]],\"sequentialminus\":[[0.0,\"#0d0887\"],[0.1111111111111111,\"#46039f\"],[0.2222222222222222,\"#7201a8\"],[0.3333333333333333,\"#9c179e\"],[0.4444444444444444,\"#bd3786\"],[0.5555555555555556,\"#d8576b\"],[0.6666666666666666,\"#ed7953\"],[0.7777777777777778,\"#fb9f3a\"],[0.8888888888888888,\"#fdca26\"],[1.0,\"#f0f921\"]],\"diverging\":[[0,\"#8e0152\"],[0.1,\"#c51b7d\"],[0.2,\"#de77ae\"],[0.3,\"#f1b6da\"],[0.4,\"#fde0ef\"],[0.5,\"#f7f7f7\"],[0.6,\"#e6f5d0\"],[0.7,\"#b8e186\"],[0.8,\"#7fbc41\"],[0.9,\"#4d9221\"],[1,\"#276419\"]]},\"xaxis\":{\"gridcolor\":\"white\",\"linecolor\":\"white\",\"ticks\":\"\",\"title\":{\"standoff\":15},\"zerolinecolor\":\"white\",\"automargin\":true,\"zerolinewidth\":2},\"yaxis\":{\"gridcolor\":\"white\",\"linecolor\":\"white\",\"ticks\":\"\",\"title\":{\"standoff\":15},\"zerolinecolor\":\"white\",\"automargin\":true,\"zerolinewidth\":2},\"scene\":{\"xaxis\":{\"backgroundcolor\":\"#E5ECF6\",\"gridcolor\":\"white\",\"linecolor\":\"white\",\"showbackground\":true,\"ticks\":\"\",\"zerolinecolor\":\"white\",\"gridwidth\":2},\"yaxis\":{\"backgroundcolor\":\"#E5ECF6\",\"gridcolor\":\"white\",\"linecolor\":\"white\",\"showbackground\":true,\"ticks\":\"\",\"zerolinecolor\":\"white\",\"gridwidth\":2},\"zaxis\":{\"backgroundcolor\":\"#E5ECF6\",\"gridcolor\":\"white\",\"linecolor\":\"white\",\"showbackground\":true,\"ticks\":\"\",\"zerolinecolor\":\"white\",\"gridwidth\":2}},\"shapedefaults\":{\"line\":{\"color\":\"#2a3f5f\"}},\"annotationdefaults\":{\"arrowcolor\":\"#2a3f5f\",\"arrowhead\":0,\"arrowwidth\":1},\"geo\":{\"bgcolor\":\"white\",\"landcolor\":\"#E5ECF6\",\"subunitcolor\":\"white\",\"showland\":true,\"showlakes\":true,\"lakecolor\":\"white\"},\"title\":{\"x\":0.05},\"mapbox\":{\"style\":\"light\"}}},\"xaxis\":{\"anchor\":\"y\",\"domain\":[0.0,1.0],\"title\":{\"text\":\"Year\"}},\"yaxis\":{\"anchor\":\"x\",\"domain\":[0.0,1.0],\"title\":{\"text\":\"Value\"}},\"legend\":{\"title\":{\"text\":\"Metric\"},\"tracegroupgap\":0},\"title\":{\"text\":\"Comparison of Total Liabilities and Employees Over Years\"}},                        {\"responsive\": true}                    ).then(function(){\n",
       "                            \n",
       "var gd = document.getElementById('fc4d52fe-066e-4099-a546-c448400a114a');\n",
       "var x = new MutationObserver(function (mutations, observer) {{\n",
       "        var display = window.getComputedStyle(gd).display;\n",
       "        if (!display || display === 'none') {{\n",
       "            console.log([gd, 'removed!']);\n",
       "            Plotly.purge(gd);\n",
       "            observer.disconnect();\n",
       "        }}\n",
       "}});\n",
       "\n",
       "// Listen for the removal of the full notebook cells\n",
       "var notebookContainer = gd.closest('#notebook-container');\n",
       "if (notebookContainer) {{\n",
       "    x.observe(notebookContainer, {childList: true});\n",
       "}}\n",
       "\n",
       "// Listen for the clearing of the current output cell\n",
       "var outputEl = gd.closest('.output');\n",
       "if (outputEl) {{\n",
       "    x.observe(outputEl, {childList: true});\n",
       "}}\n",
       "\n",
       "                        })                };                });            </script>        </div>"
      ]
     },
     "metadata": {},
     "output_type": "display_data"
    }
   ],
   "source": [
    "# Clean the 'Total Liabilities (millions)' and 'Employees' columns\n",
    "data['Total Liabilities (millions)'] = data['Total Liabilities (millions)'].replace({'\\$|,': ''}, regex=True).astype(float)\n",
    "data['Employees'] = data['Employees'].replace({',': ''}, regex=True).astype(int)\n",
    "\n",
    "# Melt the DataFrame to make it suitable for comparison\n",
    "data_melted = data.melt(id_vars='year', \n",
    "                        value_vars=['Total Liabilities (millions)', 'Employees'],\n",
    "                        var_name='Metric', value_name='Value')\n",
    "\n",
    "# Create a line plot to compare the two columns over years\n",
    "fig = px.line(data_melted, \n",
    "              x='year', y='Value', color='Metric', \n",
    "              title='Comparison of Total Liabilities and Employees Over Years',\n",
    "              labels={'Value': 'Value', 'year': 'Year', 'Metric': 'Metric'})\n",
    "\n",
    "# Show the plot\n",
    "fig.show()\n"
   ]
  },
  {
   "cell_type": "markdown",
   "id": "dae3f6c3",
   "metadata": {},
   "source": [
    "Explanation: This visualization can help in analyzing the company’s growth in terms of its liabilities and workforce over time."
   ]
  },
  {
   "cell_type": "code",
   "execution_count": 55,
   "id": "cf1c9ffd",
   "metadata": {},
   "outputs": [],
   "source": [
    "# Select only numeric columns\n",
    "numeric_data = data.select_dtypes(include=[np.number])"
   ]
  },
  {
   "cell_type": "code",
   "execution_count": 56,
   "id": "5dd52904",
   "metadata": {},
   "outputs": [],
   "source": [
    "# Compute the correlation matrix\n",
    "corr = numeric_data.corr()"
   ]
  },
  {
   "cell_type": "code",
   "execution_count": 57,
   "id": "522ca174",
   "metadata": {},
   "outputs": [
    {
     "data": {
      "image/png": "[encoded data removed]",
      "text/plain": [
       "<Figure size 640x480 with 2 Axes>"
      ]
     },
     "metadata": {},
     "output_type": "display_data"
    }
   ],
   "source": [
    "# Plot the heatmap\n",
    "sns.heatmap(corr, annot=True, cmap='coolwarm', fmt='.2f')\n",
    "plt.title('Correlation Heatmap')\n",
    "plt.show()"
   ]
  },
  {
   "cell_type": "markdown",
   "id": "18076d91",
   "metadata": {},
   "source": [
    "Thank you"
   ]
  }
 ],
 "metadata": {
  "kernelspec": {
   "display_name": "Python 3 (ipykernel)",
   "language": "python",
   "name": "python3"
  },
  "language_info": {
   "codemirror_mode": {
    "name": "ipython",
    "version": 3
   },
   "file_extension": ".py",
   "mimetype": "text/x-python",
   "name": "python",
   "nbconvert_exporter": "python",
   "pygments_lexer": "ipython3",
   "version": "3.11.7"
  }
 },
 "nbformat": 4,
 "nbformat_minor": 5
}
